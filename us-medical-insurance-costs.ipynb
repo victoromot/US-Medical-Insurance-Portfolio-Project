{
 "cells": [
  {
   "cell_type": "markdown",
   "metadata": {},
   "source": [
    "# U.S. Medical Insurance Costs"
   ]
  },
  {
   "cell_type": "markdown",
   "metadata": {},
   "source": [
    "This is a portfolio project analysing the US Medical insurance costs. This project uses fundamentals of python programming such as python functions, loops, dictionaries, lists, and files to summarize the dataset. It is important to note that the dataset has been looked over and it contains 7 coulumns.\n",
    "\n",
    "The following steps would be followed in arriving at the result:\n",
    "    1. import the python library \"csv\" to read the dataset.\n",
    "    2. read the file \"insurance.csv\" and inspect its contents.\n"
   ]
  },
  {
   "cell_type": "markdown",
   "metadata": {},
   "source": [
    "Let's import the python library to read our dataset"
   ]
  },
  {
   "cell_type": "code",
   "execution_count": null,
   "metadata": {},
   "outputs": [],
   "source": [
    "import csv"
   ]
  },
  {
   "cell_type": "markdown",
   "metadata": {},
   "source": [
    "We would be storing our datasets as lists. Therefore we have to create empty lists to store our data before opening the csv file, and reading them into our empty lists.\n"
   ]
  },
  {
   "cell_type": "code",
   "execution_count": null,
   "metadata": {},
   "outputs": [],
   "source": [
    "ages = []\n",
    "sex = []\n",
    "bmis = []\n",
    "num_of_children = []\n",
    "smoker = []\n",
    "region = []\n",
    "insurance_cost = []\n",
    "with open('insurance.csv') as insurance_csv:\n",
    "    insurance_reader = csv.DictReader(insurance_csv, delimiter = \",\")\n",
    "    for row in insurance_reader:\n",
    "        ages.append(row['age'])\n",
    "        sex.append(row['sex'])\n",
    "        bmis.append(row['bmi'])\n",
    "        num_of_children.append(row['children'])\n",
    "        smoker.append(row['smoker'])\n",
    "        region.append(row['region'])\n",
    "        insurance_cost.append(row['charges'])\n",
    "       "
   ]
  },
  {
   "cell_type": "markdown",
   "metadata": {},
   "source": [
    "We need to confirm if we have the data stored in our respective lists and check the respective datatypes. We'd do that by confirming the lenght of each list, and checking the first five and last five elements of each list.\n"
   ]
  },
  {
   "cell_type": "code",
   "execution_count": null,
   "metadata": {},
   "outputs": [],
   "source": [
    "def dataset_inspection(list,x):\n",
    "    #This function takes two arguments,a list and x(integer) and returns a dictionary containing, the length of the list, the first x elements and last x elements of the list\n",
    "    # x must be greater than 0\n",
    "    my_dict = {}\n",
    "    my_dict['lenght_of_list'] = len(list)\n",
    "    my_dict['first_five_elements'] = list[:x]\n",
    "    my_dict['last_five_elements'] = list[(-1 *x):]\n",
    "    return my_dict"
   ]
  },
  {
   "cell_type": "code",
   "execution_count": null,
   "metadata": {},
   "outputs": [],
   "source": [
    "#lets test our function on our lists\n",
    "print(dataset_inspection(ages, 5))\n",
    "print(dataset_inspection(sex, 5))\n",
    "print(dataset_inspection(bmis, 5))\n",
    "print(dataset_inspection(num_of_children, 5))\n",
    "print(dataset_inspection(smoker, 5))\n",
    "print(dataset_inspection(region, 5))\n",
    "print(dataset_inspection(insurance_cost, 5))\n"
   ]
  },
  {
   "cell_type": "markdown",
   "metadata": {},
   "source": [
    "Now that we have a feel of what our lists look like (columns of the dataset), we can start our analysis.\n",
    "However, it is noticeable that our integers and floats are saved as strings."
   ]
  },
  {
   "cell_type": "markdown",
   "metadata": {},
   "source": [
    "#### Let's create functions that convert our strings to floats and integer\n",
    "The functions would take a list of strings and returns a list of floats and integers"
   ]
  },
  {
   "cell_type": "code",
   "execution_count": null,
   "metadata": {},
   "outputs": [],
   "source": [
    "def string_to_integer(list):\n",
    "    new_list = []\n",
    "    for item in list:\n",
    "        new_list.append(int(item))\n",
    "    return new_list\n",
    "\n",
    "def string_to_float(list):\n",
    "    new_list = []\n",
    "    for item in list:\n",
    "        new_list.append(float(item))\n",
    "    return new_list\n",
    "        "
   ]
  },
  {
   "cell_type": "markdown",
   "metadata": {},
   "source": [
    "Let's convert the lists not needed in strings into floats or integers as the case maybe"
   ]
  },
  {
   "cell_type": "code",
   "execution_count": null,
   "metadata": {},
   "outputs": [],
   "source": [
    "ages = string_to_integer(ages)\n",
    "bmis = string_to_float(bmis)\n",
    "num_of_children = string_to_integer(num_of_children)\n",
    "insurance_cost = string_to_float(insurance_cost)"
   ]
  },
  {
   "cell_type": "markdown",
   "metadata": {},
   "source": [
    "#### Average\n",
    "\n",
    "Let's create a function that returns the average of the elements in a list. Applicable to numerical values only"
   ]
  },
  {
   "cell_type": "code",
   "execution_count": null,
   "metadata": {},
   "outputs": [],
   "source": [
    "def average(list):\n",
    "    \"\"\"A function that returns the average of a list containing numerical elements.\"\"\"\n",
    "    return sum(list)/len(list)\n",
    "\n",
    "#Let's determine the avarage age of the dataset using the sum function and len function we can get our average\n",
    "print(\"The average age of the dataset is {}\".format(average(ages)))"
   ]
  },
  {
   "cell_type": "markdown",
   "metadata": {},
   "source": [
    "### Spread of Age\n",
    "\n",
    "Let's categorize our ages into brackets to better understand the demographics.\n",
    "18-24, 25-34, 35-44, 45-54, 55-64, 65 and above"
   ]
  },
  {
   "cell_type": "code",
   "execution_count": null,
   "metadata": {},
   "outputs": [],
   "source": [
    "def age_spread(list):\n",
    "    #This function takes a list of ages and returns a dictionary according to the age brackets specified above.\n",
    "    my_dict = {\"18-24\": 0, \"25-34\": 0, \"35-44\": 0, \"45-54\": 0, \"55-64\": 0, \"65 & above\": 0}\n",
    "    for item in list:\n",
    "        if item < 18:\n",
    "            pass\n",
    "        elif 18 <= item <= 24:\n",
    "            my_dict[\"18-24\"] += 1\n",
    "        elif 25 <= item <= 34:\n",
    "            my_dict[\"25-34\"] += 1\n",
    "        elif 35 <= item <= 44:\n",
    "            my_dict[\"35-44\"] += 1\n",
    "        elif 45 <= item <= 54:\n",
    "            my_dict[\"45-54\"] += 1\n",
    "        elif 55 <= item <= 64:\n",
    "            my_dict[\"55-64\"] += 1\n",
    "        else:\n",
    "            my_dict[\"65 & above\"] += 1\n",
    "    my_dict['total'] = sum(my_dict.values())\n",
    "    return my_dict\n",
    "    "
   ]
  },
  {
   "cell_type": "code",
   "execution_count": null,
   "metadata": {},
   "outputs": [],
   "source": [
    "age_spread(ages)"
   ]
  },
  {
   "cell_type": "markdown",
   "metadata": {},
   "source": [
    "### Spread of Region\n",
    "\n",
    "Let's examine the spread of the region in our dataset"
   ]
  },
  {
   "cell_type": "code",
   "execution_count": null,
   "metadata": {},
   "outputs": [],
   "source": [
    "def region_spread(list):\n",
    "    my_dict = {}\n",
    "    for item in list:\n",
    "        if item not in my_dict:\n",
    "            my_dict[item] = 1\n",
    "        else:\n",
    "            my_dict[item] += 1\n",
    "    my_dict['total'] = sum(my_dict.values())\n",
    "    return my_dict"
   ]
  },
  {
   "cell_type": "code",
   "execution_count": null,
   "metadata": {},
   "outputs": [],
   "source": [
    "region_spread(region)"
   ]
  },
  {
   "cell_type": "markdown",
   "metadata": {},
   "source": [
    "### Grouping by Region\n",
    "\n",
    "Getting the average medical cost, age, and bmi per region.\n",
    "We would write a function that takes two arguments, the list containing the regions and a list of any other numerical data. This function returns a dictionary of all the regions and the average value of the numerical data in the argument passed."
   ]
  },
  {
   "cell_type": "code",
   "execution_count": null,
   "metadata": {},
   "outputs": [],
   "source": [
    "def group_by_region(region, list):\n",
    "    my_dict = {}\n",
    "    southeast = []\n",
    "    southwest = []\n",
    "    northwest = []\n",
    "    northeast = []\n",
    "    for i in range(len(region)):\n",
    "        if region[i] == 'southeast':\n",
    "            southeast.append(list[i])\n",
    "        elif region[i] == 'southwest':\n",
    "            southwest.append(list[i])\n",
    "        elif region[i] == 'northeast':\n",
    "            northeast.append(list[i])\n",
    "        else:\n",
    "            northwest.append(list[i])\n",
    "    my_dict['southeast'] = average(southeast)\n",
    "    my_dict['southwest'] = average(southwest)\n",
    "    my_dict['northeast'] = average(northeast)\n",
    "    my_dict['northwest'] = average(northwest)\n",
    "    return my_dict\n",
    "        "
   ]
  },
  {
   "cell_type": "code",
   "execution_count": null,
   "metadata": {},
   "outputs": [],
   "source": [
    "group_by_region(region, insurance_cost)"
   ]
  },
  {
   "cell_type": "code",
   "execution_count": null,
   "metadata": {},
   "outputs": [],
   "source": [
    "group_by_region(region, ages)"
   ]
  },
  {
   "cell_type": "code",
   "execution_count": null,
   "metadata": {},
   "outputs": [],
   "source": [
    "group_by_region(region, num_of_children)"
   ]
  },
  {
   "cell_type": "code",
   "execution_count": null,
   "metadata": {},
   "outputs": [],
   "source": [
    "group_by_region(region, bmis)"
   ]
  },
  {
   "cell_type": "code",
   "execution_count": null,
   "metadata": {},
   "outputs": [],
   "source": []
  },
  {
   "cell_type": "code",
   "execution_count": null,
   "metadata": {},
   "outputs": [],
   "source": []
  },
  {
   "cell_type": "code",
   "execution_count": null,
   "metadata": {},
   "outputs": [],
   "source": []
  }
 ],
 "metadata": {
  "kernelspec": {
   "display_name": "Python 3",
   "language": "python",
   "name": "python3"
  },
  "language_info": {
   "codemirror_mode": {
    "name": "ipython",
    "version": 3
   },
   "file_extension": ".py",
   "mimetype": "text/x-python",
   "name": "python",
   "nbconvert_exporter": "python",
   "pygments_lexer": "ipython3",
   "version": "3.7.3"
  }
 },
 "nbformat": 4,
 "nbformat_minor": 4
}
