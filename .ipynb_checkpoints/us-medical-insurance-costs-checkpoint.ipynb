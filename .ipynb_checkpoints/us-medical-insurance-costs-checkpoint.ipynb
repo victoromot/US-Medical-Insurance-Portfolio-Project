{
 "cells": [
  {
   "cell_type": "markdown",
   "metadata": {},
   "source": [
    "# U.S. Medical Insurance Costs"
   ]
  },
  {
   "cell_type": "markdown",
   "metadata": {},
   "source": [
    "This is a portfolio project analysing the US Medical insurance costs. This project uses fundamentals of python programming such as python functions, loops, dictionaries, lists, and files to summarize the dataset. \n",
    "\n",
    "The following steps would be followed in arriving at the result:\n",
    "    1. Importing Dataset\n",
    "    2. Inspecting Dataset\n",
    "    3. Preparing Dataset\n",
    "    4. Analysis\n",
    "    5. Summary\n"
   ]
  },
  {
   "cell_type": "markdown",
   "metadata": {},
   "source": [
    "## 1. Importing Dataset\n",
    "Let's import the python library to read our dataset"
   ]
  },
  {
   "cell_type": "code",
   "execution_count": 1,
   "metadata": {},
   "outputs": [],
   "source": [
    "import csv"
   ]
  },
  {
   "cell_type": "markdown",
   "metadata": {},
   "source": [
    "We would be storing our datasets as lists. Therefore we have to create empty lists to store our data before opening the csv file, and reading them into our empty lists.\n"
   ]
  },
  {
   "cell_type": "code",
   "execution_count": 2,
   "metadata": {},
   "outputs": [],
   "source": [
    "ages = []\n",
    "sex = []\n",
    "bmis = []\n",
    "num_of_children = []\n",
    "smoker = []\n",
    "region = []\n",
    "insurance_cost = []\n",
    "with open('insurance.csv') as insurance_csv:\n",
    "    insurance_reader = csv.DictReader(insurance_csv, delimiter = \",\")\n",
    "    for row in insurance_reader:\n",
    "        ages.append(row['age'])\n",
    "        sex.append(row['sex'])\n",
    "        bmis.append(row['bmi'])\n",
    "        num_of_children.append(row['children'])\n",
    "        smoker.append(row['smoker'])\n",
    "        region.append(row['region'])\n",
    "        insurance_cost.append(row['charges'])\n",
    "       "
   ]
  },
  {
   "cell_type": "markdown",
   "metadata": {},
   "source": [
    "## 2. Inspecting Dataset\n",
    "\n",
    "We need to confirm if we have the data stored in our respective lists and check the respective datatypes. We'd do that by confirming the lenght of each list, and checking the first five and last five elements of each list.\n"
   ]
  },
  {
   "cell_type": "code",
   "execution_count": 3,
   "metadata": {},
   "outputs": [],
   "source": [
    "def dataset_inspection(list,x):\n",
    "    #This function takes two arguments,a list and x(integer) and returns a dictionary containing, the length of the list, the first x elements and last x elements of the list\n",
    "    # x must be greater than 0\n",
    "    my_dict = {}\n",
    "    my_dict['lenght_of_list'] = len(list)\n",
    "    my_dict['first_five_elements'] = list[:x]\n",
    "    my_dict['last_five_elements'] = list[(-1 *x):]\n",
    "    return my_dict"
   ]
  },
  {
   "cell_type": "code",
   "execution_count": 4,
   "metadata": {},
   "outputs": [
    {
     "name": "stdout",
     "output_type": "stream",
     "text": [
      "{'lenght_of_list': 1338, 'first_five_elements': ['19', '18', '28', '33', '32'], 'last_five_elements': ['50', '18', '18', '21', '61']}\n",
      "{'lenght_of_list': 1338, 'first_five_elements': ['female', 'male', 'male', 'male', 'male'], 'last_five_elements': ['male', 'female', 'female', 'female', 'female']}\n",
      "{'lenght_of_list': 1338, 'first_five_elements': ['27.9', '33.77', '33', '22.705', '28.88'], 'last_five_elements': ['30.97', '31.92', '36.85', '25.8', '29.07']}\n",
      "{'lenght_of_list': 1338, 'first_five_elements': ['0', '1', '3', '0', '0'], 'last_five_elements': ['3', '0', '0', '0', '0']}\n",
      "{'lenght_of_list': 1338, 'first_five_elements': ['yes', 'no', 'no', 'no', 'no'], 'last_five_elements': ['no', 'no', 'no', 'no', 'yes']}\n",
      "{'lenght_of_list': 1338, 'first_five_elements': ['southwest', 'southeast', 'southeast', 'northwest', 'northwest'], 'last_five_elements': ['northwest', 'northeast', 'southeast', 'southwest', 'northwest']}\n",
      "{'lenght_of_list': 1338, 'first_five_elements': ['16884.924', '1725.5523', '4449.462', '21984.47061', '3866.8552'], 'last_five_elements': ['10600.5483', '2205.9808', '1629.8335', '2007.945', '29141.3603']}\n"
     ]
    }
   ],
   "source": [
    "#lets test our function on our lists\n",
    "print(dataset_inspection(ages, 5))\n",
    "print(dataset_inspection(sex, 5))\n",
    "print(dataset_inspection(bmis, 5))\n",
    "print(dataset_inspection(num_of_children, 5))\n",
    "print(dataset_inspection(smoker, 5))\n",
    "print(dataset_inspection(region, 5))\n",
    "print(dataset_inspection(insurance_cost, 5))\n"
   ]
  },
  {
   "cell_type": "markdown",
   "metadata": {},
   "source": [
    "## 3. Preparing Dataset\n",
    "\n",
    "Now that we have a feel of what our lists look like (columns of the dataset), we can start our analysis.\n",
    "However, it is noticeable that our integers and floats are saved as strings."
   ]
  },
  {
   "cell_type": "markdown",
   "metadata": {},
   "source": [
    "#### Let's create functions that convert our strings to floats and integer\n",
    "The functions would take a list of strings and returns a list of floats and integers"
   ]
  },
  {
   "cell_type": "code",
   "execution_count": 5,
   "metadata": {},
   "outputs": [],
   "source": [
    "def string_to_integer(list):\n",
    "    new_list = []\n",
    "    for item in list:\n",
    "        new_list.append(int(item))\n",
    "    return new_list\n",
    "\n",
    "def string_to_float(list):\n",
    "    new_list = []\n",
    "    for item in list:\n",
    "        new_list.append(float(item))\n",
    "    return new_list\n",
    "        "
   ]
  },
  {
   "cell_type": "markdown",
   "metadata": {},
   "source": [
    "Let's convert the lists not needed in strings into floats or integers as the case maybe"
   ]
  },
  {
   "cell_type": "code",
   "execution_count": 6,
   "metadata": {},
   "outputs": [],
   "source": [
    "ages = string_to_integer(ages)\n",
    "bmis = string_to_float(bmis)\n",
    "num_of_children = string_to_integer(num_of_children)\n",
    "insurance_cost = string_to_float(insurance_cost)"
   ]
  },
  {
   "cell_type": "code",
   "execution_count": 7,
   "metadata": {},
   "outputs": [
    {
     "name": "stdout",
     "output_type": "stream",
     "text": [
      "[19, 18, 28, 33, 32, 31, 46, 37, 37, 60]\n",
      "[27.9, 33.77, 33.0, 22.705, 28.88, 25.74, 33.44, 27.74, 29.83, 25.84]\n",
      "[0, 1, 3, 0, 0, 0, 1, 3, 2, 0]\n",
      "[16884.924, 1725.5523, 4449.462, 21984.47061, 3866.8552, 3756.6216, 8240.5896, 7281.5056, 6406.4107, 28923.13692]\n"
     ]
    }
   ],
   "source": [
    "#confirm if the strings have been converted\n",
    "print(ages[:10])\n",
    "print(bmis[:10])\n",
    "print(num_of_children[:10])\n",
    "print(insurance_cost[:10])"
   ]
  },
  {
   "cell_type": "markdown",
   "metadata": {},
   "source": [
    "## 4. Analysis\n",
    "\n",
    "### Average\n",
    "\n",
    "Let's create a function that returns the average of the elements in a list. Applicable to numerical values only"
   ]
  },
  {
   "cell_type": "code",
   "execution_count": 8,
   "metadata": {},
   "outputs": [],
   "source": [
    "def average(list):\n",
    "    \"\"\"A function that returns the average of a list containing numerical elements.\"\"\"\n",
    "    return sum(list)/len(list)\n",
    "\n"
   ]
  },
  {
   "cell_type": "code",
   "execution_count": 9,
   "metadata": {},
   "outputs": [
    {
     "name": "stdout",
     "output_type": "stream",
     "text": [
      "The average age of the dataset is 39.20702541106129\n"
     ]
    }
   ],
   "source": [
    "#Let's determine the average age of the dataset using the average function.\n",
    "print(\"The average age of the dataset is {}\".format(average(ages)))"
   ]
  },
  {
   "cell_type": "markdown",
   "metadata": {},
   "source": [
    "### Age Group\n",
    "\n",
    "Let's categorize our ages into brackets to better understand the demographics.\n",
    "18-24, 25-34, 35-44, 45-54, 55-64, 65 and above"
   ]
  },
  {
   "cell_type": "code",
   "execution_count": 10,
   "metadata": {},
   "outputs": [],
   "source": [
    "def age_group(list):\n",
    "    #This function takes a list of ages and returns a dictionary according to the age brackets specified above.\n",
    "    my_dict = {\"18-24\": 0, \"25-34\": 0, \"35-44\": 0, \"45-54\": 0, \"55-64\": 0, \"65 & above\": 0}\n",
    "    for item in list:\n",
    "        if item < 18:\n",
    "            pass\n",
    "        elif 18 <= item <= 24:\n",
    "            my_dict[\"18-24\"] += 1\n",
    "        elif 25 <= item <= 34:\n",
    "            my_dict[\"25-34\"] += 1\n",
    "        elif 35 <= item <= 44:\n",
    "            my_dict[\"35-44\"] += 1\n",
    "        elif 45 <= item <= 54:\n",
    "            my_dict[\"45-54\"] += 1\n",
    "        elif 55 <= item <= 64:\n",
    "            my_dict[\"55-64\"] += 1\n",
    "        else:\n",
    "            my_dict[\"65 & above\"] += 1\n",
    "    my_dict['total'] = sum(my_dict.values())\n",
    "    return my_dict\n",
    "    "
   ]
  },
  {
   "cell_type": "code",
   "execution_count": 11,
   "metadata": {},
   "outputs": [
    {
     "data": {
      "text/plain": [
       "{'18-24': 278,\n",
       " '25-34': 271,\n",
       " '35-44': 260,\n",
       " '45-54': 287,\n",
       " '55-64': 242,\n",
       " '65 & above': 0,\n",
       " 'total': 1338}"
      ]
     },
     "execution_count": 11,
     "metadata": {},
     "output_type": "execute_result"
    }
   ],
   "source": [
    "age_group(ages)"
   ]
  },
  {
   "cell_type": "markdown",
   "metadata": {},
   "source": [
    "### Spread of Data\n",
    "\n",
    "Let's examine the spread of the categorical variables in our dataset. The function below takes a list and returns a dictionary with a count of every possible entry, as well as the total count. "
   ]
  },
  {
   "cell_type": "code",
   "execution_count": 12,
   "metadata": {},
   "outputs": [],
   "source": [
    "def data_spread(list):\n",
    "    my_dict = {}\n",
    "    for item in list:\n",
    "        if item not in my_dict:\n",
    "            my_dict[item] = 1\n",
    "        else:\n",
    "            my_dict[item] += 1\n",
    "    my_dict['total'] = sum(my_dict.values())\n",
    "    return my_dict"
   ]
  },
  {
   "cell_type": "code",
   "execution_count": 13,
   "metadata": {
    "scrolled": false
   },
   "outputs": [
    {
     "data": {
      "text/plain": [
       "{'southwest': 325,\n",
       " 'southeast': 364,\n",
       " 'northwest': 325,\n",
       " 'northeast': 324,\n",
       " 'total': 1338}"
      ]
     },
     "execution_count": 13,
     "metadata": {},
     "output_type": "execute_result"
    }
   ],
   "source": [
    "# Let's examine our regional spread\n",
    "data_spread(region)"
   ]
  },
  {
   "cell_type": "code",
   "execution_count": 14,
   "metadata": {},
   "outputs": [
    {
     "data": {
      "text/plain": [
       "{'female': 662, 'male': 676, 'total': 1338}"
      ]
     },
     "execution_count": 14,
     "metadata": {},
     "output_type": "execute_result"
    }
   ],
   "source": [
    "# Let's examine the number of males and females in our dataset\n",
    "data_spread(sex)"
   ]
  },
  {
   "cell_type": "code",
   "execution_count": 15,
   "metadata": {},
   "outputs": [
    {
     "data": {
      "text/plain": [
       "{'yes': 274, 'no': 1064, 'total': 1338}"
      ]
     },
     "execution_count": 15,
     "metadata": {},
     "output_type": "execute_result"
    }
   ],
   "source": [
    "# Let's examine the spread of smokers and non-smokers\n",
    "data_spread(smoker)"
   ]
  },
  {
   "cell_type": "markdown",
   "metadata": {},
   "source": [
    "#### Number of Individuals with at least one child"
   ]
  },
  {
   "cell_type": "code",
   "execution_count": 16,
   "metadata": {},
   "outputs": [],
   "source": [
    "def num_of_child(list):\n",
    "    my_dict = {\"no child\": 0, \"at least one child\": 0}\n",
    "    for item in list:\n",
    "        if item == 0:\n",
    "            my_dict[\"no child\"] += 1\n",
    "        else:\n",
    "            my_dict[\"at least one child\"] += 1\n",
    "    return my_dict\n",
    "            "
   ]
  },
  {
   "cell_type": "code",
   "execution_count": 17,
   "metadata": {},
   "outputs": [
    {
     "data": {
      "text/plain": [
       "{'no child': 574, 'at least one child': 764}"
      ]
     },
     "execution_count": 17,
     "metadata": {},
     "output_type": "execute_result"
    }
   ],
   "source": [
    "num_of_child(num_of_children)"
   ]
  },
  {
   "cell_type": "markdown",
   "metadata": {},
   "source": [
    "### Group by Region\n",
    "\n",
    "Getting the average medical cost, age, and bmi per region.\n",
    "We would write a function that takes two arguments, the list containing the regions and a list of any other numerical data. This function returns a dictionary of all the regions and the average value of the numerical data in the argument passed."
   ]
  },
  {
   "cell_type": "code",
   "execution_count": 18,
   "metadata": {},
   "outputs": [],
   "source": [
    "def group_by_region(region, list):\n",
    "    my_dict = {}\n",
    "    southeast = []\n",
    "    southwest = []\n",
    "    northwest = []\n",
    "    northeast = []\n",
    "    for i in range(len(region)):\n",
    "        if region[i] == 'southeast':\n",
    "            southeast.append(list[i])\n",
    "        elif region[i] == 'southwest':\n",
    "            southwest.append(list[i])\n",
    "        elif region[i] == 'northeast':\n",
    "            northeast.append(list[i])\n",
    "        else:\n",
    "            northwest.append(list[i])\n",
    "    my_dict['southeast'] = average(southeast)\n",
    "    my_dict['southwest'] = average(southwest)\n",
    "    my_dict['northeast'] = average(northeast)\n",
    "    my_dict['northwest'] = average(northwest)\n",
    "    return my_dict\n",
    "        "
   ]
  },
  {
   "cell_type": "code",
   "execution_count": 19,
   "metadata": {},
   "outputs": [
    {
     "data": {
      "text/plain": [
       "{'southeast': 14735.411437609895,\n",
       " 'southwest': 12346.93737729231,\n",
       " 'northeast': 13406.3845163858,\n",
       " 'northwest': 12417.575373969228}"
      ]
     },
     "execution_count": 19,
     "metadata": {},
     "output_type": "execute_result"
    }
   ],
   "source": [
    "group_by_region(region, insurance_cost)"
   ]
  },
  {
   "cell_type": "code",
   "execution_count": 20,
   "metadata": {},
   "outputs": [
    {
     "data": {
      "text/plain": [
       "{'southeast': 38.93956043956044,\n",
       " 'southwest': 39.45538461538462,\n",
       " 'northeast': 39.26851851851852,\n",
       " 'northwest': 39.19692307692308}"
      ]
     },
     "execution_count": 20,
     "metadata": {},
     "output_type": "execute_result"
    }
   ],
   "source": [
    "group_by_region(region, ages)"
   ]
  },
  {
   "cell_type": "code",
   "execution_count": 21,
   "metadata": {},
   "outputs": [
    {
     "data": {
      "text/plain": [
       "{'southeast': 1.0494505494505495,\n",
       " 'southwest': 1.1415384615384616,\n",
       " 'northeast': 1.0462962962962963,\n",
       " 'northwest': 1.1476923076923078}"
      ]
     },
     "execution_count": 21,
     "metadata": {},
     "output_type": "execute_result"
    }
   ],
   "source": [
    "group_by_region(region, num_of_children)"
   ]
  },
  {
   "cell_type": "code",
   "execution_count": 22,
   "metadata": {},
   "outputs": [
    {
     "data": {
      "text/plain": [
       "{'southeast': 33.35598901098903,\n",
       " 'southwest': 30.59661538461538,\n",
       " 'northeast': 29.17350308641976,\n",
       " 'northwest': 29.199784615384626}"
      ]
     },
     "execution_count": 22,
     "metadata": {},
     "output_type": "execute_result"
    }
   ],
   "source": [
    "group_by_region(region, bmis)"
   ]
  },
  {
   "cell_type": "markdown",
   "metadata": {},
   "source": [
    "### Group by Smoker\n",
    "\n",
    "Similar to the group by region, we want to determine the average of numerical data with reference to the smoker status of the individual"
   ]
  },
  {
   "cell_type": "code",
   "execution_count": 23,
   "metadata": {},
   "outputs": [],
   "source": [
    "def group_by_smoker(smoker, list, str):\n",
    "    \"\"\"This function takes three arguments: a list of smoker data, a list of any other numerical variable in the dataset,\n",
    "    and a string of your choice to describe the numerical variable.\n",
    "    It returns the count of smokers and non-smokers and the average of the numerical data passed as an argument\"\"\"\n",
    "    str1 = \"average_\" + str\n",
    "    smoker_list = []\n",
    "    non_smoker_list = []\n",
    "    my_dict = {'smoker': {'count': 0, str1: smoker_list} , 'non-smoker': {'count': 0, str1: non_smoker_list}}\n",
    "    for i in range(len(smoker)):\n",
    "        if smoker[i] == 'yes':\n",
    "            my_dict['smoker']['count'] += 1\n",
    "            smoker_list.append(list[i])\n",
    "            my_dict['smoker'][str1] = smoker_list\n",
    "        else:\n",
    "            my_dict['non-smoker']['count'] += 1\n",
    "            non_smoker_list.append(list[i])\n",
    "            my_dict['non-smoker'][str1] = non_smoker_list\n",
    "    my_dict['non-smoker'][str1] = average(non_smoker_list)\n",
    "    my_dict['smoker'][str1] = average(smoker_list)\n",
    "    return my_dict"
   ]
  },
  {
   "cell_type": "code",
   "execution_count": 24,
   "metadata": {},
   "outputs": [
    {
     "data": {
      "text/plain": [
       "{'smoker': {'count': 274, 'average_cost': 32050.23183153285},\n",
       " 'non-smoker': {'count': 1064, 'average_cost': 8434.268297856199}}"
      ]
     },
     "execution_count": 24,
     "metadata": {},
     "output_type": "execute_result"
    }
   ],
   "source": [
    "#Let's test our function using the insurance cost. This would signify the average cost of insurance of a smoker and non-smoker.\n",
    "group_by_smoker(smoker,insurance_cost,\"cost\")"
   ]
  },
  {
   "cell_type": "markdown",
   "metadata": {},
   "source": [
    "### Group by Age Group"
   ]
  },
  {
   "cell_type": "code",
   "execution_count": 25,
   "metadata": {},
   "outputs": [],
   "source": [
    "def group_by_age_group(ages, list):\n",
    "    my_dict = {\"18-24\":[], \"25-34\":[], \"35-44\":[], \"45-54\":[],\"55-64\":[]}\n",
    "    for i in range(len(list)):\n",
    "        if 18 <= ages[i] <= 24:\n",
    "            my_dict[\"18-24\"].append(list[i])\n",
    "        elif 25 <= ages[i] <= 34:\n",
    "            my_dict[\"25-34\"].append(list[i])\n",
    "        elif 35 <= ages[i] <= 44:\n",
    "            my_dict[\"35-44\"].append(list[i])\n",
    "        elif 45 <= ages[i] <= 54:\n",
    "            my_dict[\"45-54\"].append(list[i])\n",
    "        else:\n",
    "            my_dict[\"55-64\"].append(list[i])\n",
    "    for key in my_dict:\n",
    "        my_dict[key] = average(my_dict[key])\n",
    "    return my_dict"
   ]
  },
  {
   "cell_type": "code",
   "execution_count": 26,
   "metadata": {},
   "outputs": [
    {
     "data": {
      "text/plain": [
       "{'18-24': 9011.340317334529,\n",
       " '25-34': 10352.392525793359,\n",
       " '35-44': 13134.168692692307,\n",
       " '45-54': 15853.927878188151,\n",
       " '55-64': 18513.276226900805}"
      ]
     },
     "execution_count": 26,
     "metadata": {},
     "output_type": "execute_result"
    }
   ],
   "source": [
    "group_by_age_group(ages, insurance_cost)"
   ]
  },
  {
   "cell_type": "code",
   "execution_count": 27,
   "metadata": {},
   "outputs": [
    {
     "data": {
      "text/plain": [
       "{'18-24': 0.60431654676259,\n",
       " '25-34': 1.2767527675276753,\n",
       " '35-44': 1.4923076923076923,\n",
       " '45-54': 1.386759581881533,\n",
       " '55-64': 0.6818181818181818}"
      ]
     },
     "execution_count": 27,
     "metadata": {},
     "output_type": "execute_result"
    }
   ],
   "source": [
    "group_by_age_group(ages, num_of_children)"
   ]
  },
  {
   "cell_type": "code",
   "execution_count": 28,
   "metadata": {},
   "outputs": [
    {
     "data": {
      "text/plain": [
       "{'18-24': 30.038920863309365,\n",
       " '25-34': 30.064132841328412,\n",
       " '35-44': 30.399711538461535,\n",
       " '45-54': 31.14670731707317,\n",
       " '55-64': 31.761962809917364}"
      ]
     },
     "execution_count": 28,
     "metadata": {},
     "output_type": "execute_result"
    }
   ],
   "source": [
    "group_by_age_group(ages, bmis)"
   ]
  },
  {
   "cell_type": "markdown",
   "metadata": {},
   "source": [
    "### Group by Sex\n"
   ]
  },
  {
   "cell_type": "code",
   "execution_count": 29,
   "metadata": {},
   "outputs": [],
   "source": [
    "def group_by_sex(sex, list):\n",
    "    my_dict = {'female': [], 'male':[]}\n",
    "    for i in range(len(list)):\n",
    "        if sex[i] == 'female':\n",
    "            my_dict['female'].append(list[i])\n",
    "        else:\n",
    "            my_dict['male'].append(list[i])\n",
    "    for key in my_dict:\n",
    "        my_dict[key] = average(my_dict[key])\n",
    "    return my_dict"
   ]
  },
  {
   "cell_type": "code",
   "execution_count": 30,
   "metadata": {},
   "outputs": [
    {
     "data": {
      "text/plain": [
       "{'female': 12569.57884383534, 'male': 13956.751177721886}"
      ]
     },
     "execution_count": 30,
     "metadata": {},
     "output_type": "execute_result"
    }
   ],
   "source": [
    "group_by_sex(sex, insurance_cost)"
   ]
  },
  {
   "cell_type": "code",
   "execution_count": 31,
   "metadata": {},
   "outputs": [
    {
     "data": {
      "text/plain": [
       "{'female': 30.377749244713023, 'male': 30.943128698224832}"
      ]
     },
     "execution_count": 31,
     "metadata": {},
     "output_type": "execute_result"
    }
   ],
   "source": [
    "group_by_sex(sex, bmis)"
   ]
  },
  {
   "cell_type": "code",
   "execution_count": 32,
   "metadata": {},
   "outputs": [
    {
     "data": {
      "text/plain": [
       "{'female': 1.0740181268882176, 'male': 1.1153846153846154}"
      ]
     },
     "execution_count": 32,
     "metadata": {},
     "output_type": "execute_result"
    }
   ],
   "source": [
    "group_by_sex(sex, num_of_children)"
   ]
  },
  {
   "cell_type": "code",
   "execution_count": 33,
   "metadata": {},
   "outputs": [
    {
     "data": {
      "text/plain": [
       "{'female': 39.503021148036254, 'male': 38.917159763313606}"
      ]
     },
     "execution_count": 33,
     "metadata": {},
     "output_type": "execute_result"
    }
   ],
   "source": [
    "group_by_sex(sex, ages)"
   ]
  },
  {
   "cell_type": "markdown",
   "metadata": {},
   "source": [
    "## 5. Summary\n",
    "\n",
    "We can see that the dataset's average age of the observations is 39 years. The spread of the age group is pretty even, with the least entries from individuals between 55 and 64 and individuals between 45 and 54 years with the most entries. Our dataset is also not skewed as regards region and sex. However, the ratio of smokers to non-smokers in the dataset is 1:4. \n",
    "\n",
    "The Average Insurance Cost in the southeast is **14,735.44 dollars**, the highest of the four regions, and is about **2500 dollars** more than the southwest region, which happens to be the region with the least average charge. It is also important to note that the southeast region has the highest average BMI of **33.36** and the lowest average age of all four areas.\n",
    "\n",
    "A significant takeaway is the average insurance cost for a smoker and non-smoker. The average price of insurance for a smoker is about **32000 dollars**, which is about three times the cost for a non-smoker(8400 dollars). *It is important to note that the sample size of smokers in this data set is four times lesser than non-smokers.* Furthermore,  the average insurance cost increases with age; on average, men pay 1000 dollars more than their female counterparts.  \n",
    "\n",
    "\n",
    "\n"
   ]
  },
  {
   "cell_type": "code",
   "execution_count": null,
   "metadata": {},
   "outputs": [],
   "source": []
  }
 ],
 "metadata": {
  "kernelspec": {
   "display_name": "Python 3",
   "language": "python",
   "name": "python3"
  },
  "language_info": {
   "codemirror_mode": {
    "name": "ipython",
    "version": 3
   },
   "file_extension": ".py",
   "mimetype": "text/x-python",
   "name": "python",
   "nbconvert_exporter": "python",
   "pygments_lexer": "ipython3",
   "version": "3.7.3"
  }
 },
 "nbformat": 4,
 "nbformat_minor": 4
}
